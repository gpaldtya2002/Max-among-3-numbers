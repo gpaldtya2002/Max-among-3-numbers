{
  "nbformat": 4,
  "nbformat_minor": 0,
  "metadata": {
    "colab": {
      "provenance": [],
      "authorship_tag": "ABX9TyNvpvuE5pKDttKn2AyZYWwL",
      "include_colab_link": true
    },
    "kernelspec": {
      "name": "python3",
      "display_name": "Python 3"
    },
    "language_info": {
      "name": "python"
    }
  },
  "cells": [
    {
      "cell_type": "markdown",
      "metadata": {
        "id": "view-in-github",
        "colab_type": "text"
      },
      "source": [
        "<a href=\"https://colab.research.google.com/github/gpaldtya2002/To-find-max-among-three-numbers/blob/main/Max_among_three_numbers.ipynb\" target=\"_parent\"><img src=\"https://colab.research.google.com/assets/colab-badge.svg\" alt=\"Open In Colab\"/></a>"
      ]
    },
    {
      "cell_type": "code",
      "source": [
        "a= int(input(\"Enter first no:\"))\n",
        "b= int(input(\"Enter second no:\"))\n",
        "c= int(input(\"Enter third no:\"))\n",
        "d= [a,b,c]\n",
        "#print(max(d))\n",
        "print(max(a,b,c))"
      ],
      "metadata": {
        "colab": {
          "base_uri": "https://localhost:8080/"
        },
        "id": "8DXbat6ww5G0",
        "outputId": "abc7a361-79c7-474f-a4c7-a316b76535a9"
      },
      "execution_count": null,
      "outputs": [
        {
          "output_type": "stream",
          "name": "stdout",
          "text": [
            "Enter first no:11\n",
            "Enter second no:2\n",
            "Enter third no:3\n",
            "11\n"
          ]
        }
      ]
    }
  ]
}